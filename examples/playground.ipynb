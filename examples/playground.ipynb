{
 "cells": [
  {
   "cell_type": "code",
   "execution_count": null,
   "metadata": {
    "collapsed": true
   },
   "outputs": [],
   "source": [
    "from microman import task, pipe\n",
    "from microman.logs import Logger\n",
    "\n",
    "class Prop:\n",
    "    pass\n",
    "\n",
    "tasks = pipe(\n",
    "    download,\n",
    "    preprocess,\n",
    "    train,\n",
    "    evaluate\n",
    ")\n",
    "\n",
    "\n",
    "@task\n",
    "def download():\n",
    "    pass\n",
    "\n",
    "\n",
    "\n",
    "def get_new_data():\n",
    "    pass\n",
    "\n",
    "\n",
    "@task()\n",
    "def fine_tune(log: Logger):\n",
    "    new_data = get_new_data()\n",
    "    if not new_data:\n",
    "        log.info('No new data found', error=3)\n",
    "        return\n",
    "    \n",
    "    \n",
    "post('http://microman/tasks/fine_tune/runs/', body={\n",
    "    'type': 'baz'\n",
    "})\n",
    "\n",
    "post('http://microman/tasks/fine_tune/callbacks/', body={\n",
    "    'url': ''\n",
    "})\n",
    "\n",
    "\n",
    "\n"
   ]
  }
 ],
 "metadata": {
  "kernelspec": {
   "display_name": "Python 3",
   "language": "python",
   "name": "python3"
  },
  "language_info": {
   "codemirror_mode": {
    "name": "ipython",
    "version": 2
   },
   "file_extension": ".py",
   "mimetype": "text/x-python",
   "name": "python",
   "nbconvert_exporter": "python",
   "pygments_lexer": "ipython2",
   "version": "2.7.6"
  },
  "pycharm": {
   "stem_cell": {
    "cell_type": "raw",
    "source": [],
    "metadata": {
     "collapsed": false
    }
   }
  }
 },
 "nbformat": 4,
 "nbformat_minor": 0
}